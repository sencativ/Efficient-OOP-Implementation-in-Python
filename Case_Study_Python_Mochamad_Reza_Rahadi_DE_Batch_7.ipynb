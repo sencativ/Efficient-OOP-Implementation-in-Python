{
  "nbformat": 4,
  "nbformat_minor": 0,
  "metadata": {
    "colab": {
      "provenance": []
    },
    "kernelspec": {
      "name": "python3",
      "display_name": "Python 3"
    },
    "language_info": {
      "name": "python"
    }
  },
  "cells": [
    {
      "cell_type": "markdown",
      "source": [
        "# **Case Study Python**\n",
        "## Membuat class kendaraan yang memiliki sub class mobil dan motor yang bisa berjalan dan dapat cek kemacetan dengan menggunakan multiprocessing dan multi threading.\n",
        "\n",
        "Hal yang sudah diimplementasi pada case study ini:\n",
        "\n",
        "1.   OOP\n",
        "*   Class\n",
        "*   Object\n",
        "*   Method\n",
        "*   Attribute\n",
        "\n",
        "2.   Principles of OOP understanding\n",
        "*   Encapsulation\n",
        "*   Inheritance\n",
        "*   Abstract\n",
        "*   Polymorphism\n",
        "\n",
        "3. Parallel Computing\n",
        "*   Multiprocessing\n",
        "*   Multithreading\n",
        "\n",
        "4. Efficiensies Coding\n",
        "\n",
        "\n",
        "*   String formatting method\n",
        "*   List comprehension\n",
        "*   Ternary Operator\n",
        "*   Packing dan Unpacking\n",
        "*   Enumerate\n",
        "*   Zip\n",
        "*   Dictionary Comprehension\n",
        "*   Lambda\n",
        "*   With statement\n",
        "*   Set\n",
        "\n",
        "5. Best Simulation Coding\n",
        "\n",
        "*   Implementasi PEP8\n",
        "\n",
        "\n",
        "\n",
        "\n",
        "\n",
        "\n",
        "\n",
        "\n",
        "\n",
        "\n",
        "\n",
        "\n",
        "\n",
        "\n",
        "\n",
        "\n",
        "\n",
        "\n",
        "\n",
        "\n",
        "\n",
        "\n",
        "By Mochamad Reza Rahadi - Data Engineer Batch 7"
      ],
      "metadata": {
        "id": "iCDpXrNyc6DQ"
      }
    },
    {
      "cell_type": "markdown",
      "source": [
        "# **Import Library yang Dibutuhkan**"
      ],
      "metadata": {
        "id": "KWCwgMhBeKWk"
      }
    },
    {
      "cell_type": "code",
      "source": [
        "# Library yang dibutuhkan\n",
        "from abc import ABC, abstractmethod\n",
        "import time\n",
        "import random\n",
        "from multiprocessing import Pool\n",
        "import threading"
      ],
      "metadata": {
        "id": "t5AXJ5pTePkV"
      },
      "execution_count": null,
      "outputs": []
    },
    {
      "cell_type": "markdown",
      "source": [
        "# **Buat Parent Class (Kendaraan) dengan tujuan sebagai parent nantinya dari subclass mobil dan motor**"
      ],
      "metadata": {
        "id": "WbxskApqdlWG"
      }
    },
    {
      "cell_type": "code",
      "execution_count": null,
      "metadata": {
        "id": "gdXN85rlc1lj"
      },
      "outputs": [],
      "source": [
        "# Mendefinisikan parent class dengan nama kendaraan yang nantinya akan digunakan sebagai inheritance\n",
        "class Kendaraan:\n",
        "\n",
        "\n",
        "    # Inisialisasi Nilai variabel\n",
        "    def __init__(self, kecepatan=0):\n",
        "        self.__kecepatan = kecepatan\n",
        "\n",
        "    # Menggunakan abstract method agar nanti para childnya wajib menggunakan method ini.\n",
        "    @abstractmethod\n",
        "    # Memastikan method terpenting dari sebuah kendaraan adalah berjalan.\n",
        "    def berjalan(self, kecepatan):\n",
        "        pass\n",
        "\n",
        "    @abstractmethod\n",
        "    # memastikan nantinya setiap kendaraan bisa melakukan cek kemacetan.\n",
        "    def cek_kemacetan(self):\n",
        "        pass\n",
        "\n",
        "    # Menggunakan Getter untuk mengambil private variabel yang dienkapsulasi.\n",
        "    def get_kecepatan(self):\n",
        "        return self.__kecepatan\n",
        "\n",
        "    # Menggunakan Setter jika mau mengubah kecepatannya karena variabelnya dienkapsulasi.\n",
        "    def set_kecepatan(self, kecepatan):\n",
        "        self.__kecepatan = kecepatan\n"
      ]
    },
    {
      "cell_type": "markdown",
      "source": [
        "# **Membuat Sub Class Mobil dan Motor**"
      ],
      "metadata": {
        "id": "mQQylrbNe36A"
      }
    },
    {
      "cell_type": "code",
      "source": [
        "# Mendefinisikan subclass dari kendaraan\n",
        "class Motor(Kendaraan):\n",
        "\n",
        "\n",
        "    # Membuat method berjalan\n",
        "    def berjalan(self, kecepatan):\n",
        "        # Menggunakan method setter untuk set kecepatannya.\n",
        "        self.set_kecepatan(kecepatan)\n",
        "        # Jika kecepatan 0 akan dianggap mengalami kemacetan\n",
        "        if kecepatan == 0:\n",
        "            macet_message = (\n",
        "                \"Lagi Mengalami Macet\" if self.cek_kemacetan() else \"Lagi Jalan\"\n",
        "            )\n",
        "            return macet_message\n",
        "        else:\n",
        "            return f\"berjalan dengan kecepatan {self.get_kecepatan()} km/jam\"\n",
        "\n",
        "    def cek_kemacetan(self):\n",
        "        # Menggunakan ternary untuk melakukan cek kemacetan, disini logic simpelnya jika kecepatan = 0 dianggap tidak berjalan yang berarti macet.\n",
        "        macet = True if self.get_kecepatan() == 0 else False\n",
        "        return macet\n",
        "\n",
        "\n",
        "\n",
        "class Mobil(Kendaraan):\n",
        "\n",
        "\n",
        "    def berjalan(self, kecepatan):\n",
        "        # Menggunakan method setter untuk set kecepatannya.\n",
        "        self.set_kecepatan(kecepatan)\n",
        "        # Jika kecepatan 0 akan dianggap mengalami kemacetan\n",
        "        if kecepatan == 0:\n",
        "            macet_message = (\n",
        "                \"Lagi Mengalami Macet\" if self.cek_kemacetan() else \"Lagi Jalan\"\n",
        "            )\n",
        "            return macet_message\n",
        "        else:\n",
        "            return f\"berjalan dengan kecepatan {self.get_kecepatan()} km/jam\"\n",
        "\n",
        "    def cek_kemacetan(self):\n",
        "        # Menggunakan ternary untuk melakukan cek kemacetan, disini logic simpelnya jika kecepatan = 0 dianggap tidak berjalan yang berarti macet.\n",
        "        macet = True if self.get_kecepatan() == 0 else False\n",
        "        # Akan return boolean values untuk diperiksa di if statement.\n",
        "        return macet\n"
      ],
      "metadata": {
        "id": "ubKmQPBSfWkq"
      },
      "execution_count": null,
      "outputs": []
    },
    {
      "cell_type": "markdown",
      "source": [
        "# **Membuat Contoh dengan Parallel Computing**"
      ],
      "metadata": {
        "id": "SZcYNFfTo76m"
      }
    },
    {
      "cell_type": "markdown",
      "source": [
        "Mendefinisikan Item yang akan diiterasi"
      ],
      "metadata": {
        "id": "SYPSPfC0Ahv_"
      }
    },
    {
      "cell_type": "code",
      "source": [
        "# Declare data yang akan diiterasi.\n",
        "nama_kendaraan = [\n",
        "    \"Honda Beat\",\n",
        "    \"Vario\",\n",
        "    \"Yamaha NMax\",\n",
        "    \"RX King\",\n",
        "    \"Avanza\",\n",
        "    \"Mio\",\n",
        "    \"Scoopy\",\n",
        "    \"Daihatsu Xenia\",\n",
        "    \"Toyota Innova\",\n",
        "    \"Suzuki Ertiga\",\n",
        "    \"Mitsubishi Xpander\",\n",
        "    \"Toyota Alphard\",\n",
        "    \"Toyota Fortuner\",\n",
        "    \"Mitsubishi Lancer\",\n",
        "    \"Mitsubishi Lancer\",\n",
        "]\n",
        "jenis_kendaraan = [\n",
        "    Motor(),\n",
        "    Motor(),\n",
        "    Motor(),\n",
        "    Motor(),\n",
        "    Mobil(),\n",
        "    Motor(),\n",
        "    Motor(),\n",
        "    Mobil(),\n",
        "    Mobil(),\n",
        "    Mobil(),\n",
        "    Mobil(),\n",
        "    Mobil(),\n",
        "    Mobil(),\n",
        "    Mobil(),\n",
        "    Mobil(),\n",
        "]\n",
        "# Menggabungkan dua list menjadi list baru menggunakan zip\n",
        "jenis_motor_dan_mobil = list(zip(nama_kendaraan, jenis_kendaraan))\n",
        "\n",
        "# Mempersiapkan set untuk menyimpan nama kendaraan yang sudah dijalankan (menghindari duplikasi)\n",
        "kendaraan_dijalankan = set()\n"
      ],
      "metadata": {
        "id": "rvGlsXLQAiQq"
      },
      "execution_count": null,
      "outputs": []
    },
    {
      "cell_type": "markdown",
      "source": [
        "Multiprocessing"
      ],
      "metadata": {
        "id": "J511hXQEANVg"
      }
    },
    {
      "cell_type": "code",
      "source": [
        "# Menerapkan Polymorphism\n",
        "# Membuat fungsi khusus untuk menjalankan mobil, sehingga nanti proses dari multiprocessing menjalankan fungsi ini\n",
        "def jalankan_motor_mobil(kumpulan_motor_mobil):\n",
        "    # Melakukan unpack untuk memisahkan nama dan jenis kendaraan\n",
        "    nama, jenis = kumpulan_motor_mobil\n",
        "\n",
        "    # Cek jika nama kendaraan sudah ada di dalam set kendaraan_dijalankan (mengaplikasikan set agar nanti resultnya tidak menjalankan jenis mobil yang sama)\n",
        "    if nama not in kendaraan_dijalankan:\n",
        "        # Jika belum ada, tambahkan ke dalam set\n",
        "        kendaraan_dijalankan.add(nama)\n",
        "        # Menggunakan lambda function untuk membuat kecepatan secara random\n",
        "        generate_speed = lambda: random.randint(0, 10)\n",
        "        # Menggunakan lambda function untuk menjalankan kendaraan\n",
        "        jalankan_kendaraan = lambda nama, jenis, speed: (nama, jenis.berjalan(speed))\n",
        "        # Menjalankan kendaraan dengan kecepatan yang dihasilkan\n",
        "        return jalankan_kendaraan(nama, jenis, generate_speed())\n",
        "    # Jika sudah ada maka kendaraan sudah pernah berjalan\n",
        "    else:\n",
        "        return nama, f\"Kendaraan {nama} sudah dijalankan sebelumnya.\"\n",
        "\n",
        "\n",
        "# Membuat proses multiprocessing dengan jumlah proses 4 dengan with function.\n",
        "with Pool(processes=4) as pool:\n",
        "    # Masing-masing proses akan menyimpan hasilnya dalam variabel result, yang nantinya akan berupa list\n",
        "    results = pool.map(\n",
        "        jalankan_motor_mobil, jenis_motor_dan_mobil\n",
        "    )  # memanggil fungsi jalankan_motor_mobil\n",
        "    # Menggunakan dictionary comprehension untuk menyimpan hasil dalam bentuk dictionary\n",
        "    hasil_dict = {nama_kendaraan: result for nama_kendaraan, result in results}\n",
        "\n",
        "\n",
        "# Menampilkan hasil dengan iterasi pada dictionary menggunakan enumerate\n",
        "for index, (nama, hasil) in enumerate(hasil_dict.items(), start=1):\n",
        "    print(f\"{index}. Kendaraan {nama}: {hasil}\")\n",
        "\n",
        "# Filtering menggunakan list comprehension\n",
        "# Melakukan filter dengan ternary operator dan mengakses bagian angka dengan fungsi split untuk menemukan apakah kecepatan diatas 5 km/jam.\n",
        "kecepatan_kendaraan_diatas_5km = [\n",
        "    (nama, hasil)\n",
        "    for nama, hasil in hasil_dict.items()\n",
        "    if \"berjalan dengan kecepatan\" in hasil and int(hasil.split()[-2]) > 5\n",
        "]\n",
        "print(\"\\nKendaraan yang berjalan dengan kecepatan diatas 5 km/jam:\")\n",
        "# Menampilkan hasil kecepatan mobil diatas 5km bersama indeks\n",
        "for index, (nama, hasil) in enumerate(kecepatan_kendaraan_diatas_5km, start=1):\n",
        "    print(f\"{index}. Kendaraan {nama}: {hasil}\")\n",
        "\n",
        "print(\"Semua proses Selesai\")\n"
      ],
      "metadata": {
        "colab": {
          "base_uri": "https://localhost:8080/"
        },
        "id": "aHgWPM4dpaSk",
        "outputId": "8a8018c9-f491-4385-a651-0d9f74b77fd3"
      },
      "execution_count": null,
      "outputs": [
        {
          "output_type": "stream",
          "name": "stdout",
          "text": [
            "1. Kendaraan Honda Beat: berjalan dengan kecepatan 5 km/jam\n",
            "2. Kendaraan Vario: berjalan dengan kecepatan 1 km/jam\n",
            "3. Kendaraan Yamaha NMax: berjalan dengan kecepatan 10 km/jam\n",
            "4. Kendaraan RX King: berjalan dengan kecepatan 2 km/jam\n",
            "5. Kendaraan Avanza: berjalan dengan kecepatan 4 km/jam\n",
            "6. Kendaraan Mio: berjalan dengan kecepatan 8 km/jam\n",
            "7. Kendaraan Scoopy: berjalan dengan kecepatan 8 km/jam\n",
            "8. Kendaraan Daihatsu Xenia: berjalan dengan kecepatan 3 km/jam\n",
            "9. Kendaraan Toyota Innova: berjalan dengan kecepatan 10 km/jam\n",
            "10. Kendaraan Suzuki Ertiga: berjalan dengan kecepatan 5 km/jam\n",
            "11. Kendaraan Mitsubishi Xpander: berjalan dengan kecepatan 5 km/jam\n",
            "12. Kendaraan Toyota Alphard: berjalan dengan kecepatan 3 km/jam\n",
            "13. Kendaraan Toyota Fortuner: berjalan dengan kecepatan 6 km/jam\n",
            "14. Kendaraan Mitsubishi Lancer: berjalan dengan kecepatan 5 km/jam\n",
            "\n",
            "Kendaraan yang berjalan dengan kecepatan diatas 5 km/jam:\n",
            "1. Kendaraan Yamaha NMax: berjalan dengan kecepatan 10 km/jam\n",
            "2. Kendaraan Mio: berjalan dengan kecepatan 8 km/jam\n",
            "3. Kendaraan Scoopy: berjalan dengan kecepatan 8 km/jam\n",
            "4. Kendaraan Toyota Innova: berjalan dengan kecepatan 10 km/jam\n",
            "5. Kendaraan Toyota Fortuner: berjalan dengan kecepatan 6 km/jam\n",
            "Semua proses Selesai\n"
          ]
        }
      ]
    },
    {
      "cell_type": "markdown",
      "source": [
        "Multithreading"
      ],
      "metadata": {
        "id": "rzUT-3iyAPHg"
      }
    },
    {
      "cell_type": "code",
      "source": [
        "# Membuat fungsi thread yang nantinya akan menjadi target threading.\n",
        "def thread_function(kumpulan_motor_mobil):\n",
        "    # Melakukan unpack untuk memisahkan nama dan jenis kendaraan\n",
        "    nama, result = jalankan_motor_mobil(kumpulan_motor_mobil)\n",
        "    print(f\"Kendaraan {nama}: {result}\")\n",
        "\n",
        "\n",
        "# mendefinisikan list threads\n",
        "threads = []\n",
        "\n",
        "# Iterasi Semua atribut yang ada di list jenis_motor_dan_mobil\n",
        "for item in jenis_motor_dan_mobil:\n",
        "    thread = threading.Thread(target=thread_function, args=(item,))\n",
        "    threads.append(thread)\n",
        "    thread.start()\n",
        "\n",
        "# Menunggu semua thread selesai\n",
        "for thread in threads:\n",
        "    thread.join()\n",
        "\n",
        "print(\"Semua thread selesai.\")\n"
      ],
      "metadata": {
        "colab": {
          "base_uri": "https://localhost:8080/"
        },
        "id": "9MM1cISO_nKG",
        "outputId": "c4ca29a5-49cb-400c-e961-4b020f3606e5"
      },
      "execution_count": null,
      "outputs": [
        {
          "output_type": "stream",
          "name": "stdout",
          "text": [
            "Kendaraan Honda Beat: berjalan dengan kecepatan 1 km/jam\n",
            "Kendaraan Vario: berjalan dengan kecepatan 2 km/jamKendaraan Yamaha NMax: berjalan dengan kecepatan 9 km/jam\n",
            "\n",
            "Kendaraan RX King: berjalan dengan kecepatan 4 km/jam\n",
            "Kendaraan Avanza: berjalan dengan kecepatan 1 km/jam\n",
            "Kendaraan Mio: berjalan dengan kecepatan 8 km/jam\n",
            "Kendaraan Scoopy: berjalan dengan kecepatan 6 km/jam\n",
            "Kendaraan Daihatsu Xenia: berjalan dengan kecepatan 3 km/jam\n",
            "Kendaraan Toyota Innova: berjalan dengan kecepatan 4 km/jam\n",
            "Kendaraan Suzuki Ertiga: berjalan dengan kecepatan 7 km/jam\n",
            "Kendaraan Mitsubishi Xpander: Lagi Mengalami Macet\n",
            "Kendaraan Toyota Alphard: berjalan dengan kecepatan 6 km/jam\n",
            "Kendaraan Toyota Fortuner: berjalan dengan kecepatan 10 km/jam\n",
            "Kendaraan Mitsubishi Lancer: Lagi Mengalami Macet\n",
            "Kendaraan Mitsubishi Lancer: Kendaraan Mitsubishi Lancer sudah dijalankan sebelumnya.\n",
            "Semua thread selesai.\n"
          ]
        }
      ]
    }
  ]
}